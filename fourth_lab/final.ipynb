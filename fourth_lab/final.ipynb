{
 "cells": [
  {
   "cell_type": "markdown",
   "id": "49d276a6-c84b-41c1-b02d-45276fa1e6c8",
   "metadata": {},
   "source": [
    "First we read the netlist file, and store the given data in a *Directed Acyclic Graph*"
   ]
  },
  {
   "cell_type": "code",
   "execution_count": null,
   "id": "d52bdb9f-e380-4d82-bd8b-a7dd484cf3bc",
   "metadata": {},
   "outputs": [],
   "source": [
    "import networkx as nx\n",
    "from collections import deque\n",
    "\n",
    "g = nx.DiGraph()\n",
    "\n",
    "#taking input from the user \n",
    "inp = input(\"Please enter the netlist file: \")\n",
    "inp2 = input(\"Please enter the primary input file: \")        \n",
    "\n",
    "#error flag to keep track of any error breaches\n",
    "eflag = 0\n",
    "\n",
    "#initilizing a queue to solve in event driven manner\n",
    "q = deque()\n",
    "\n",
    "#read from the primary input file and storing it in a list\n",
    "with open (inp2) as f:\n",
    "    a = []\n",
    "    for line in f :\n",
    "        a.append(line.split())\n",
    "\n",
    "#reading from the netlist and building the graph\n",
    "with open(inp) as f:\n",
    "    for line in f:\n",
    "        #for 2 input gates (eg and gate)\n",
    "        if line.split()[1][-1] == '2' :\n",
    "            (input1,input2,output) = line.split()[2:]\n",
    "            g.add_edge(input1,output)\n",
    "            g.add_edge(input2,output)\n",
    "            g.nodes[output]['gate_type'] = line.split()[1]\n",
    "            g.nodes[output]['gate_id'] = line.split()[0]\n",
    "            g.nodes[output]['logic'] = 0 \n",
    "            if( 'gate_type' not in g.nodes[input1].keys()) : \n",
    "                g.nodes[input1]['gate_type'] = 'PI'\n",
    "            if( 'gate_type' not in g.nodes[input2].keys()) : \n",
    "                g.nodes[input2]['gate_type'] = 'PI'\n",
    "        #for single input gate (eg not gate)\n",
    "        else :\n",
    "            (input1,output) = line.split()[2:]\n",
    "            g.add_edge(input1,output)\n",
    "            g.nodes[output]['gate_type'] = line.split()[1]\n",
    "            g.nodes[output]['gate_id'] = line.split()[0]\n",
    "            g.nodes[output]['logic'] = 0\n",
    "            if( 'gate_type' not in g.nodes[input1].keys()) : \n",
    "                g.nodes[input1]['gate_type'] = 'PI'\n",
    "\n",
    "#topologically sorting the network\n",
    "try :\n",
    "    o = list(nx.topological_sort(g))\n",
    "except :\n",
    "    print('error : The netlist is sequencial')\n",
    "    eflag = 1\n",
    "sort_node = sorted(o)\n",
    "gtem3 = g\n",
    "gtem4 = g"
   ]
  },
  {
   "cell_type": "code",
   "execution_count": 53,
   "id": "bb0a16fc-f2a2-46a0-ba82-a4fbcc74eb07",
   "metadata": {},
   "outputs": [],
   "source": [
    "#this function returns the output logic for 2 input gates using logic1 and logic2 which are the boolean logic \n",
    "#of the input nodes and the operator is the gate type\n",
    "def calculate(logic1, logic2, operator) :\n",
    "    ans = 0\n",
    "    if (operator == 'and2') :\n",
    "        ans = int(logic1 and logic2)\n",
    "        return ans\n",
    "    if (operator == 'nand2') :\n",
    "        ans = int(not(logic1 and logic2))\n",
    "        return ans\n",
    "    if (operator == 'or2'):\n",
    "        ans = int(logic1 or logic2)\n",
    "        return ans\n",
    "    if (operator == 'nor2'):\n",
    "        ans = int(not(logic1 or logic2))\n",
    "        return ans\n",
    "    if (operator == 'xor2'):\n",
    "        ans = int((((not logic1) and (logic2)) or ((not logic2) and (logic1))))\n",
    "        return ans\n",
    "    if (operator == 'xnor2'):\n",
    "        ans = int((((not logic1) and (not logic2)) or ((logic2) and (logic1))))\n",
    "        return ans\n",
    "    eflag = 1\n",
    "    print('error gate type not identified')\n",
    "    return ans\n"
   ]
  },
  {
   "cell_type": "markdown",
   "id": "610a3bb3-6cdc-482e-a41c-194f3fa795a7",
   "metadata": {},
   "source": [
    "# Topologically ordered evaluation\n",
    "\n",
    "We topologically sort the graph and iterate through it to find the boolean values of the nodes. The boolean value of a node in a Topologiacally sorted array will only depends on the boolean value of the nodes that preceed it."
   ]
  },
  {
   "cell_type": "code",
   "execution_count": 54,
   "id": "8d44ff2f-7102-44a1-8fc7-f0152517b9ae",
   "metadata": {},
   "outputs": [],
   "source": [
    "def topo(g,a,o,sort_node) :\n",
    "    \n",
    "    # g : the input netlist stored in form of a graph\n",
    "    # a : List containing primary input file data\n",
    "    # o : list of nodes that are topologicaly sorted from graph\n",
    "    \n",
    "    \n",
    "    for i in range (1,len(a)) :\n",
    "        # now we have to sovlve for one input vector inside this for loop\n",
    "        \n",
    "        #first read the input vector \n",
    "        for j in range (0,len(a[0])) : \n",
    "            if g.nodes[a[0][j]]['gate_type'] != 'PI' :\n",
    "                eflag = 1 \n",
    "                print('error : primary input not matching with netlist')\n",
    "            g.nodes[a[0][j]]['logic'] = int(a[i][j]) \n",
    "        \n",
    "        #Now traverse the topologically sorted list and calculate the outoput\n",
    "        for j in range(0,len(o)):\n",
    "            \n",
    "            #if o[j] and primary input the continue to next iteration\n",
    "            if g.nodes[o[j]]['gate_type'] == 'PI':\n",
    "                continue\n",
    "            \n",
    "            else :\n",
    "                # 2 input gates\n",
    "                if(g.nodes[o[j]]['gate_type'][-1] == '2' ) : \n",
    "                    (inp1,inp2) = list(g.predecessors(o[j]))\n",
    "                    g.nodes[o[j]]['logic'] = calculate(g.nodes[inp1]['logic'], g.nodes[inp2]['logic'], g.nodes[o[j]]['gate_type'] )\n",
    "                # single input gates\n",
    "                else :\n",
    "                    inp1 = list(g.predecessors(o[j]))\n",
    "                    inp1 = inp1[0]\n",
    "                    if(g.nodes[output]['gate_type'] == 'inv') :\n",
    "                        g.nodes[o[j]]['logic'] = int(not (g.nodes[inp1]['logic']))\n",
    "                    #else :\n",
    "                        #g.nodes[o[j]]['logic'] = int((g.nodes[inp1]['logic']))\n",
    "        with open (\"topology.output\",'a') as f :\n",
    "            for node in sort_node :\n",
    "                f.write(f\"{ (g.nodes[node]['logic']) : <10}\")\n",
    "            f.write(f\"\\n\")\n",
    "    return g            "
   ]
  },
  {
   "cell_type": "markdown",
   "id": "84a7b0af-70b4-4601-9973-f8baf5d00489",
   "metadata": {},
   "source": [
    "# Event-driven evaluation\n",
    "\n",
    "Instead of using a topological sort, we use queues here for updating the states in an event driven approach. whenever a boolean value of a node gets updated, we enqueue all the successors of the node in the queue, because the boolean value of these nodes might change and has to be evaluated. When the queue becomes empty, the evaluation process stops and all node values are updated."
   ]
  },
  {
   "cell_type": "code",
   "execution_count": 55,
   "id": "269fbeb3-add5-4804-8b83-df92ea7374ad",
   "metadata": {},
   "outputs": [],
   "source": [
    "def append_successors (g,temp,q) :\n",
    "    for ele in list(g.successors(temp)):\n",
    "                    if ele not in q :\n",
    "                        q.append(ele)\n",
    "    pass\n",
    "def que(g,a,sort_node) :\n",
    "    for i in range (1,len(a)) :\n",
    "        #now we have to solve the one input vector inside this for loop\n",
    "        for j in range (0,len(a[0])) : \n",
    "            if g.nodes[a[0][j]]['gate_type'] != 'PI' :\n",
    "                eflag = 1 \n",
    "                print('error : primary input not matching with netlist')\n",
    "            # if the logic is changing then in enqueue the Primary node\n",
    "            if(g.nodes[a[0][j]]['logic'] != int(a[i][j]) ) :\n",
    "                g.nodes[a[0][j]]['logic'] = int(a[i][j])\n",
    "                q.append(a[0][j])\n",
    "        while(len(q) != 0) :\n",
    "            temp = q.popleft()\n",
    "            \n",
    "            #enqueing all the successors of the primary inputs whose bolean value had changed\n",
    "            if g.nodes[temp]['gate_type'] == 'PI' :\n",
    "                append_successors (g,temp,q)\n",
    "                continue\n",
    "            else :\n",
    "                if(g.nodes[temp]['gate_type'][-1] == '2' ) : \n",
    "                    (inp1,inp2) = list(g.predecessors(temp))\n",
    "                    templogic = calculate(g.nodes[inp1]['logic'], g.nodes[inp2]['logic'], g.nodes[temp]['gate_type'] )\n",
    "                    if(templogic == g.nodes[temp]['logic'] ) :\n",
    "                        continue\n",
    "                    else :\n",
    "                        g.nodes[temp]['logic'] = templogic\n",
    "                        append_successors (g,temp,q)\n",
    "                else :\n",
    "                    (inp1) = list(g.predecessors(temp))\n",
    "                    inp1 = inp1[0]\n",
    "                    if(g.nodes[temp]['gate_type'] == 'inv') :\n",
    "                        templogic == int(not (g.nodes[inp1]['logic']))\n",
    "                    else :\n",
    "                        templogic == int((g.nodes[inp1]['logic']))\n",
    "                    if(templogic == g.nodes[temp]['logic'] ) :\n",
    "                        continue\n",
    "                    else :\n",
    "                        g.nodes[temp]['logic'] = templogic\n",
    "                        append_successors (g,temp,q)\n",
    "                        \n",
    "        with open (\"queue.output\",'a') as f :\n",
    "            for node in sort_node :\n",
    "                f.write(f\"{(g.nodes[node]['logic']):<10}\")\n",
    "            f.write(f\"\\n\")\n",
    "    return g"
   ]
  },
  {
   "cell_type": "code",
   "execution_count": 56,
   "id": "2a41ba6d-ee28-4f44-849f-a001376a84c1",
   "metadata": {},
   "outputs": [],
   "source": [
    "if (eflag != 1) :\n",
    "    with open (\"topology.output\",'w') as f :\n",
    "        for node in sort_node :\n",
    "            f.write(f\"{node : <10}\")\n",
    "        f.write(f\"\\n\")\n",
    "    g_temp = g\n",
    "    g = topo(g,a,o,sort_node)\n",
    "#print(sort_node)\n",
    "#print(sorted(g.nodes()))\n",
    "#print(eflag)\n",
    "#print(g.nodes()(data = True))\n",
    "#for node in sort_node :\n",
    "#    print(node)\n",
    "#    print(f\"{ int(g.nodes[str(node)]['logic']) : <10}\")"
   ]
  },
  {
   "cell_type": "code",
   "execution_count": 57,
   "id": "b7eb4503-03f0-4b04-afdc-50d88dccb344",
   "metadata": {},
   "outputs": [],
   "source": [
    "if (eflag != 1) :\n",
    "    with open (\"queue.output\",'w') as f :\n",
    "        for node in sort_node :\n",
    "            f.write(f\"{node : <10}\")\n",
    "        f.write(f\"\\n\") \n",
    "    g = que(g_temp,a,sort_node) "
   ]
  },
  {
   "cell_type": "markdown",
   "id": "7e4fb129-d1db-47ae-b118-da1d260832e6",
   "metadata": {},
   "source": [
    "# Comparison\n",
    "\n",
    "When a single input vector is given for a netlist, topological evaluation is faster than the event-driven evaluation, because in event-driven evaluation we find the successesors for the element we pop from the queue (but only if the boolean value is changed ) and thus becomes a complex code that the first case in single input vector\n",
    "\n",
    "But as we increse the number of input vectors for which the output needs to be calculated, the event-driven evaluation becomes more optimized compared to topological evaluation as we are only enquing those boolean value which have changed from the previous value, this optimization is a result of precalculated boolean values for a different input vector. (the more close the 2 input vectors are the lesser the time event driven apporach will take)"
   ]
  },
  {
   "cell_type": "code",
   "execution_count": 58,
   "id": "9f8ae16f-956d-4e4e-a594-8e2b0c1605eb",
   "metadata": {},
   "outputs": [
    {
     "name": "stdout",
     "output_type": "stream",
     "text": [
      "30.9 ms ± 41.6 µs per loop (mean ± std. dev. of 7 runs, 10 loops each)\n",
      "25.7 ms ± 171 µs per loop (mean ± std. dev. of 7 runs, 10 loops each)\n"
     ]
    }
   ],
   "source": [
    "%timeit topo(gtem3,a,o,sort_node)\n",
    "%timeit que(gtem4,a,sort_node)"
   ]
  }
 ],
 "metadata": {
  "authors": [
   {
    "name": "Annangi Shashank Babu"
   }
  ],
  "kernelspec": {
   "display_name": "Python 3 (ipykernel)",
   "language": "python",
   "name": "python3"
  },
  "language_info": {
   "codemirror_mode": {
    "name": "ipython",
    "version": 3
   },
   "file_extension": ".py",
   "mimetype": "text/x-python",
   "name": "python",
   "nbconvert_exporter": "python",
   "pygments_lexer": "ipython3",
   "version": "3.10.9"
  },
  "title": "EE2703 : Logical Simulation"
 },
 "nbformat": 4,
 "nbformat_minor": 5
}
