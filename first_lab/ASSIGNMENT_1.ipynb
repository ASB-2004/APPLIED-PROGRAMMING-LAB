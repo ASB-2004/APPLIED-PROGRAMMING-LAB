{
 "cells": [
  {
   "cell_type": "markdown",
   "id": "90d654ce",
   "metadata": {},
   "source": [
    "# Document metadata\n",
    "\n",
    "The notebook's metadata can be modified in the *Property Inspector*, under the section *Notebook Metadata*. "
   ]
  },
  {
   "cell_type": "markdown",
   "id": "b3b4e7f9",
   "metadata": {},
   "source": [
    "## Numerical types"
   ]
  },
  {
   "cell_type": "code",
   "execution_count": 2,
   "id": "3739adc1",
   "metadata": {},
   "outputs": [
    {
     "name": "stdout",
     "output_type": "stream",
     "text": [
      "2.4\n"
     ]
    }
   ],
   "source": [
    "print(12 / 5)          "
   ]
  },
  {
   "cell_type": "markdown",
   "id": "ee7ca884",
   "metadata": {},
   "source": [
    "In python the division of two numbers returns the answer of type *float* for this operator."
   ]
  },
  {
   "cell_type": "code",
   "execution_count": 3,
   "id": "93127562",
   "metadata": {},
   "outputs": [
    {
     "name": "stdout",
     "output_type": "stream",
     "text": [
      "2\n"
     ]
    }
   ],
   "source": [
    "print(12 // 5)"
   ]
  },
  {
   "cell_type": "markdown",
   "id": "332ca368",
   "metadata": {},
   "source": [
    "The operator // represents the floor division and returns a number of type *int* in python."
   ]
  },
  {
   "cell_type": "code",
   "execution_count": 4,
   "id": "1f3ae72d",
   "metadata": {},
   "outputs": [
    {
     "name": "stdout",
     "output_type": "stream",
     "text": [
      "10 10 1.0\n"
     ]
    }
   ],
   "source": [
    "a=b=10\n",
    "print(a,b,a/b)"
   ]
  },
  {
   "cell_type": "markdown",
   "id": "6e93aec1",
   "metadata": {},
   "source": [
    "Since python is dynamically typed language, We don't have to declare the type of variables **a** and **b** are while assigning a value to them. Python states **a** and **b** to be of appropriate type during the run-time of the programme. Even though **a** is divisible by **b**, the return type of **a/b** is\n",
    "still *float*."
   ]
  },
  {
   "cell_type": "code",
   "execution_count": 5,
   "id": "a17608cb",
   "metadata": {},
   "outputs": [
    {
     "name": "stdout",
     "output_type": "stream",
     "text": [
      "a --> <class 'int'>\n",
      "b --> <class 'int'>\n",
      "c --> <class 'float'>\n",
      "d --> <class 'int'>\n"
     ]
    }
   ],
   "source": [
    "#explanation\n",
    "c = a/b\n",
    "d = a // b\n",
    "def print_type(**kwarg):\n",
    "    for key, value in kwarg.items():\n",
    "        print(key + ' --> ' + str(type(value)))\n",
    "\n",
    "print_type(a = a, b = b, c = c, d = d)"
   ]
  },
  {
   "cell_type": "markdown",
   "id": "a0d511e4",
   "metadata": {},
   "source": [
    "## Strings and related operations"
   ]
  },
  {
   "cell_type": "code",
   "execution_count": 6,
   "id": "041decdd",
   "metadata": {},
   "outputs": [
    {
     "name": "stdout",
     "output_type": "stream",
     "text": [
      "Hello \n",
      "a --> <class 'str'>\n"
     ]
    }
   ],
   "source": [
    "a = \"Hello \"\n",
    "print(a)\n",
    "\n",
    "print_type(a = a)"
   ]
  },
  {
   "cell_type": "markdown",
   "id": "b2f5b251",
   "metadata": {},
   "source": [
    "Now python Dynamically (during runtime itself) converted the type of **a** from *int* to *string*."
   ]
  },
  {
   "cell_type": "code",
   "execution_count": 7,
   "id": "0d0bfe4f",
   "metadata": {},
   "outputs": [
    {
     "name": "stdout",
     "output_type": "stream",
     "text": [
      "a --> <class 'str'>\n",
      "b --> <class 'int'>\n"
     ]
    }
   ],
   "source": [
    "print_type(a = a,b = b)\n",
    "#print(a+b)# Output should contain \"Hello 10\" "
   ]
  },
  {
   "cell_type": "markdown",
   "id": "a2935c52",
   "metadata": {},
   "source": [
    "Python can't concatenate a integer to a string so printing(a + b) will raise a TypeError, to get a output \"Hello 10\" we have to type-cast the integer (**b**) to the type *string* first, and then concatenate as shown below."
   ]
  },
  {
   "cell_type": "code",
   "execution_count": 7,
   "id": "b27893f5",
   "metadata": {},
   "outputs": [
    {
     "name": "stdout",
     "output_type": "stream",
     "text": [
      "[1, 2, 3, 4]\n",
      "<class 'str'>\n",
      "a --> <class 'str'>\n",
      "b --> <class 'str'>\n"
     ]
    }
   ],
   "source": [
    "#explanation\n",
    "a = [1,2,3,4]\n",
    "print(str(a))\n",
    "a = str(a)\n",
    "print(type(a[0]))\n",
    "b = str(b)\n",
    "print_type(a = a, b = b)\n"
   ]
  },
  {
   "cell_type": "code",
   "execution_count": 8,
   "id": "b5ae2cf3",
   "metadata": {},
   "outputs": [
    {
     "name": "stdout",
     "output_type": "stream",
     "text": [
      "----------------------------------------\n",
      "                                      42\n",
      "*-*-*-*-*-*-*-*-*-*-*-*-*-*-*-*-*-*-*-*-\n"
     ]
    }
   ],
   "source": [
    "# Print out a line of 40 '-' signs (to look like one long line)\n",
    "# Then print the number 42 so that it is right justified to the end of \n",
    "# the above line\n",
    "# Then print one more line of length 40, but with the pattern '*-*-*-' \n",
    "length = 40\n",
    "e = \"-\"\n",
    "d = \"*\"\n",
    "c = 42\n",
    "for i in range (length):\n",
    "    print(e,end=\"\")\n",
    "print()    \n",
    "for i in range (length - 2):\n",
    "    print (\" \",end=\"\")\n",
    "print(c)\n",
    "for i in range (length // 2):\n",
    "    print(d + e,end=\"\")\n",
    "print();"
   ]
  },
  {
   "cell_type": "code",
   "execution_count": 9,
   "id": "df874c5d",
   "metadata": {},
   "outputs": [
    {
     "name": "stdout",
     "output_type": "stream",
     "text": [
      "The variable 'a' has the value Hello  and 'b' has the value         10\n"
     ]
    }
   ],
   "source": [
    "print(f\"The variable 'a' has the value {a} and 'b' has the value {b:>10}\")"
   ]
  },
  {
   "cell_type": "markdown",
   "id": "69a9b0b0",
   "metadata": {},
   "source": [
    "In Python, an f-string is a literal string, prefixed with ‘f’, which contains expressions inside braces. The expressions are replaced with their values. The syntax {b:>10} adds 9 white-space characters to the string and then prints the value of **b**."
   ]
  },
  {
   "cell_type": "code",
   "execution_count": 10,
   "id": "5c767f40",
   "metadata": {},
   "outputs": [
    {
     "name": "stdout",
     "output_type": "stream",
     "text": [
      "EE2703                     Applied Programming Lab\n",
      "EE2003                       Computer Organization\n",
      "EE5131                           Digital IC Design\n"
     ]
    }
   ],
   "source": [
    "# Create a list of dictionaries where each entry in the list has two keys:\n",
    "# - id: this will be the ID number of a course, for example 'EE2703'\n",
    "# - name: this will be the name, for example 'Applied Programming Lab'\n",
    "# Add 3 entries:\n",
    "# EE2703 -> Applied Programming Lab\n",
    "# EE2003 -> Computer Organization\n",
    "# EE5311 -> Digital IC Design\n",
    "# Then print out the entries in a neatly formatted table where the \n",
    "# ID number is left justified\n",
    "# to 10 spaces and the name is right justified to 40 spaces.  \n",
    "# That is it should look like:\n",
    "\n",
    "# EE2703                     Applied Programming Lab\n",
    "# EE2003                       Computer Organization\n",
    "# EE5131                           Digital IC Design\n",
    "\n",
    "course1 = { 'id' : 'EE2703', 'name' : 'Applied Programming Lab'}\n",
    "course2 = { 'id' : 'EE2003', 'name' : 'Computer Organization'}\n",
    "course3 = { 'id' : 'EE5131', 'name' : 'Digital IC Design'}\n",
    "courses = [course1,course2,course3]\n",
    "for course in courses:\n",
    "    print(course['id'],end='')\n",
    "    for i in range (50 - len(course['name'] + course['id'])):\n",
    "        print('',end=' ')\n",
    "    print(course['name'])"
   ]
  },
  {
   "cell_type": "markdown",
   "id": "20a6e880",
   "metadata": {},
   "source": [
    "Using the user code for padding and formatting the strings can prove to be cumbersome at time, this is where f-strings comes in handy. F-strings are a great way to format strings and make the source code elegent."
   ]
  },
  {
   "cell_type": "code",
   "execution_count": 11,
   "id": "944356ad",
   "metadata": {},
   "outputs": [
    {
     "name": "stdout",
     "output_type": "stream",
     "text": [
      "EE2703                     Applied Programming Lab\n",
      "EE2003                       Computer Organization\n",
      "EE5131                           Digital IC Design\n"
     ]
    }
   ],
   "source": [
    "#easier way for the above problem statement\n",
    "for course in courses:\n",
    "    print(f\"{course['id'] : <10}{course['name'] : >40}\")"
   ]
  },
  {
   "cell_type": "markdown",
   "id": "578597b1",
   "metadata": {},
   "source": [
    "# Functions for general manipulation"
   ]
  },
  {
   "cell_type": "code",
   "execution_count": 1,
   "id": "bae61f61",
   "metadata": {},
   "outputs": [
    {
     "name": "stdout",
     "output_type": "stream",
     "text": [
      "0000000000001010\n",
      "1111111111110110\n",
      "error,number of bits not enough\n",
      "01111111111110110\n",
      "11101100\n"
     ]
    }
   ],
   "source": [
    "# Write a function with name 'twosc' that will take a single integer \n",
    "# as input, and print out the binary representation of the number \n",
    "# as output.  The function should take one other optional parameter N \n",
    "# which represents the number of bits.  The final result should always \n",
    "# contain N characters as output (either 0 or 1) and should use \n",
    "# two's complement to represent the number if it is negative.\n",
    "# Examples:\n",
    "# twosc(10): 0000000000001010\n",
    "# twosc(-10): 1111111111110110\n",
    "# twosc(-20, 8): 11101100\n",
    "#\n",
    "# Use only functions from the Python standard library to do this.\n",
    " \n",
    "def twosc(x, N = 16, flag = 'true'):\n",
    "    if x < 0: \n",
    "        flag = 'false'\n",
    "        twosc(2**(N) + x,N,flag)  # unsigned representation of 2**16 - 10B == signed representation of -10\n",
    "    elif (x > (2**(N-1) - 1)) and (flag == 'true'):\n",
    "        print('error,number of bits not enough')\n",
    "    else :\n",
    "        print(str(bin(x)[2:]).rjust(N,'0'))\n",
    "    pass\n",
    "\n",
    "twosc(10,16)\n",
    "twosc(-10)\n",
    "twosc(2**16 - 10)\n",
    "twosc(2**16 - 10,17)\n",
    "twosc(-20, 8)"
   ]
  },
  {
   "cell_type": "markdown",
   "id": "39055f61",
   "metadata": {},
   "source": [
    "# List comprehensions and decorators"
   ]
  },
  {
   "cell_type": "code",
   "execution_count": 13,
   "id": "969ccdb7",
   "metadata": {},
   "outputs": [
    {
     "data": {
      "text/plain": [
       "[0, 4, 16, 36, 64]"
      ]
     },
     "execution_count": 13,
     "metadata": {},
     "output_type": "execute_result"
    }
   ],
   "source": [
    "# Explain the output you see below\n",
    "[x*x for x in range(10) if x%2 == 0]"
   ]
  },
  {
   "cell_type": "markdown",
   "id": "f2bb212b-6fa0-425d-9c69-ee00dcda24b6",
   "metadata": {},
   "source": [
    "The above code is equivalent to the below one"
   ]
  },
  {
   "cell_type": "code",
   "execution_count": 14,
   "id": "c172952e",
   "metadata": {},
   "outputs": [
    {
     "data": {
      "text/plain": [
       "[0, 4, 16, 36, 64]"
      ]
     },
     "execution_count": 14,
     "metadata": {},
     "output_type": "execute_result"
    }
   ],
   "source": [
    "#explanation\n",
    "c = []\n",
    "for x in range(10) :\n",
    "    if x % 2 == 0:\n",
    "        c.append(x*x)\n",
    "c"
   ]
  },
  {
   "cell_type": "markdown",
   "id": "c4f607c6",
   "metadata": {},
   "source": [
    "The output is a list of squares of all the numbers in between [0,10)"
   ]
  },
  {
   "cell_type": "code",
   "execution_count": 15,
   "id": "2cce15e2",
   "metadata": {},
   "outputs": [
    {
     "data": {
      "text/plain": [
       "[1, 2, 3, 4, 5, 6, 7, 8, 9]"
      ]
     },
     "execution_count": 15,
     "metadata": {},
     "output_type": "execute_result"
    }
   ],
   "source": [
    "# Explain the output you see below\n",
    "matrix = [[1,2,3], [4,5,6], [7,8,9]]\n",
    "[v for row in matrix for v in row]"
   ]
  },
  {
   "cell_type": "markdown",
   "id": "df148e98",
   "metadata": {},
   "source": [
    "The above code is equivalent to the below one"
   ]
  },
  {
   "cell_type": "code",
   "execution_count": 16,
   "id": "2783c21e",
   "metadata": {},
   "outputs": [
    {
     "data": {
      "text/plain": [
       "[1, 2, 3, 4, 5, 6, 7, 8, 9]"
      ]
     },
     "execution_count": 16,
     "metadata": {},
     "output_type": "execute_result"
    }
   ],
   "source": [
    "#explanation\n",
    "d = []\n",
    "row = 0\n",
    "v = 0\n",
    "for row in matrix :\n",
    "    for v in row :\n",
    "        d.append(v)\n",
    "d"
   ]
  },
  {
   "cell_type": "code",
   "execution_count": 13,
   "id": "8cf46c6a-9496-4fc5-82cf-258a040c2df1",
   "metadata": {},
   "outputs": [
    {
     "name": "stdout",
     "output_type": "stream",
     "text": [
      "[[1, 3], [2, 4]]\n"
     ]
    }
   ],
   "source": [
    "a =[[1,2],[3,4]]\n",
    "b = [[a[j][i] for j in range (2)] for i in range (2)]\n",
    "print(b)"
   ]
  },
  {
   "cell_type": "code",
   "execution_count": 17,
   "id": "fca4ec8d",
   "metadata": {},
   "outputs": [
    {
     "name": "stdout",
     "output_type": "stream",
     "text": [
      "matrix --> <class 'list'>\n",
      "row --> <class 'list'>\n",
      "v --> <class 'int'>\n",
      "d --> <class 'list'>\n",
      "c --> <class 'list'>\n"
     ]
    }
   ],
   "source": [
    "#explanation\n",
    "print_type(matrix = matrix, row = row, v = v ,d = d, c= c)"
   ]
  },
  {
   "cell_type": "markdown",
   "id": "ef5e6b89",
   "metadata": {},
   "source": [
    "The variable *row* is a list and the variable *matrix* is a list of list's."
   ]
  },
  {
   "cell_type": "code",
   "execution_count": 18,
   "id": "bfbd1177",
   "metadata": {},
   "outputs": [
    {
     "name": "stdout",
     "output_type": "stream",
     "text": [
      "2 3 5 7 11 13 17 19 23 29 31 37 41 43 47 53 59 61 67 71 73 79 83 89 97 \n"
     ]
    }
   ],
   "source": [
    "# Define a function `is_prime(x)` that will return True if a number \n",
    "# is prime, or False otherwise.\n",
    "# Use it to write a one-line statement that will print all \n",
    "# prime numbers between 1 and 100\n",
    "\n",
    "def is_prime(x):\n",
    "    if x == 0 or x == 1 : \n",
    "        return 0\n",
    "    i = 2\n",
    "    while i*i <= x :\n",
    "        if x % (i) == 0:\n",
    "            return 0\n",
    "        i += 1\n",
    "    return 1    \n",
    "for i in range(0,101):\n",
    "    if is_prime(i):\n",
    "        print(i,end=' ')\n",
    "print() "
   ]
  },
  {
   "cell_type": "markdown",
   "id": "5ea20f30",
   "metadata": {},
   "source": [
    "The above function has a time complexity of O(n^1.5). The function checks if there are any factors of a number *x* in range of [2,sqrt(x)], if it finds any factors then it returns 0, else returns 1 because there also cant be any factor of x in range (sqrt(x),x) if there is no factor in range [2,sqrt(x)]. "
   ]
  },
  {
   "cell_type": "code",
   "execution_count": 19,
   "id": "56b04c81",
   "metadata": {},
   "outputs": [
    {
     "name": "stdout",
     "output_type": "stream",
     "text": [
      "Hello happy flappy world\n"
     ]
    }
   ],
   "source": [
    "# Explain the output below\n",
    "def f1(x):\n",
    "    return \"happy \" + x\n",
    "def f2(f):\n",
    "    def wrapper(*args, **kwargs):\n",
    "        return \"Hello \" + f(*args, **kwargs) + \" world\"\n",
    "    return wrapper\n",
    "f3 = f2(f1)\n",
    "print(f3(\"flappy\"))"
   ]
  },
  {
   "cell_type": "markdown",
   "id": "1b0f735d",
   "metadata": {},
   "source": [
    "args represents non-keyword arguments and kwargs represent keyword arguments. args and kwargs are to be used when we want a function to take *variable* length of aurguments. *args receives arguments as a tuple. A keyword argument is where you provide a name to the variable as you pass it into the function. kwargs receives arguments as a dictionary.\n",
    "\n",
    "f2 is a function which takes another function as a argument and makes a new *wrapper* function (wrapper can take variable length of arguments both keyword and non-keyword) and returns the newly created function (this functions also can take variable length is aurgument as it is just a modified copy of wrapper function). f3 has the same defination as f5 shown below to get a better clarity on what the defination of f3 function is."
   ]
  },
  {
   "cell_type": "code",
   "execution_count": 20,
   "id": "de185183",
   "metadata": {},
   "outputs": [
    {
     "name": "stdout",
     "output_type": "stream",
     "text": [
      "Hello happy flappy world\n"
     ]
    }
   ],
   "source": [
    "#explanation\n",
    "\n",
    "def f5(*args, **kwargs):\n",
    "        return \"Hello \" + f1(*args, **kwargs) + \" world\"\n",
    "print(f5('flappy'))\n",
    "#equivalent to f5 = f2(f1)"
   ]
  },
  {
   "cell_type": "code",
   "execution_count": 21,
   "id": "53446786",
   "metadata": {},
   "outputs": [
    {
     "name": "stdout",
     "output_type": "stream",
     "text": [
      "Hello nappy flappy world\n"
     ]
    }
   ],
   "source": [
    "# Explain the output below\n",
    "@f2\n",
    "def f4(x):\n",
    "    return \"nappy \" + x\n",
    "print(f4(\"flappy\"))"
   ]
  },
  {
   "cell_type": "markdown",
   "id": "e0fc6b2c",
   "metadata": {},
   "source": [
    "The defination of f4 is equivalent to the defination of f6 shown below to get a better idea on what f4 function's defination is."
   ]
  },
  {
   "cell_type": "code",
   "execution_count": 22,
   "id": "18035437",
   "metadata": {},
   "outputs": [
    {
     "name": "stdout",
     "output_type": "stream",
     "text": [
      "Hello nappy flappy world\n"
     ]
    }
   ],
   "source": [
    "#explanation\n",
    "def f6(x):\n",
    "    return \"nappy \" + x\n",
    "f6 = f2(f6)\n",
    "print(f6(\"flappy\"))\n",
    "# is equivalent to \n",
    "#@f2\n",
    "#def f6()\n",
    "#    return \"nappy\" + x\n",
    "# print(f6(\"flappy\"))"
   ]
  },
  {
   "cell_type": "code",
   "execution_count": 23,
   "id": "ee8822d0",
   "metadata": {},
   "outputs": [],
   "source": [
    "# File IO"
   ]
  },
  {
   "cell_type": "code",
   "execution_count": 24,
   "id": "af8196a4",
   "metadata": {},
   "outputs": [],
   "source": [
    "# Write a function to generate prime numbers from 1 to N (input)\n",
    "# and write them to a file (second argument).  You can reuse the prime\n",
    "# detection function written earlier.\n",
    "def seive(N) :\n",
    "    numbers = [1 for i in range(0 , N+1)] \n",
    "    numbers[0] = 0\n",
    "    numbers[1] = 0\n",
    "    for j in range(2 , N+1):\n",
    "        i = j * j;\n",
    "        while (i < N + 1) :\n",
    "            if numbers[i] == 1:\n",
    "                numbers[i] = 0\n",
    "            i += j \n",
    "    return numbers\n",
    "def write_primes(N, filename):\n",
    "    seive(N)\n",
    "    with open(filename,'w') as file_object:\n",
    "        numbers = seive(N)\n",
    "        for i in range(N+1):\n",
    "            if numbers[i] == 1:\n",
    "                file_object.write(str(i) + '\\n')\n",
    "write_primes(200,'prime.txt')                "
   ]
  },
  {
   "cell_type": "markdown",
   "id": "90e56998",
   "metadata": {},
   "source": [
    "A more optimized algorithm (sieve of Eratosthenes) which has a time complexity of O(nlog(logn)) is used, which conveys the information of whether a number in range [1,N] is prime or otherwise, then this information is used to write the prime numbers into a file 'prime.txt' present in same directory as source code."
   ]
  },
  {
   "cell_type": "code",
   "execution_count": 25,
   "id": "3d7e84b4",
   "metadata": {},
   "outputs": [],
   "source": [
    "# Exceptions"
   ]
  },
  {
   "cell_type": "code",
   "execution_count": 26,
   "id": "40f617ab",
   "metadata": {},
   "outputs": [
    {
     "name": "stdin",
     "output_type": "stream",
     "text": [
      "Please enter a positive integer:  93\n"
     ]
    },
    {
     "name": "stdout",
     "output_type": "stream",
     "text": [
      "93 is NOT a prime number\n"
     ]
    }
   ],
   "source": [
    "# Write a function that takes in a number as input, and prints out \n",
    "# whether it is a prime or not.  If the input is not an integer,\n",
    "# print an appropriate error message.  Use exceptions to detect problems.\n",
    "\n",
    "\n",
    "def seive(N) :\n",
    "    numbers = [1 for i in range(0 , N+1)]\n",
    "    numbers[0] = 0\n",
    "    numbers[1] = 0\n",
    "    for j in range(2 , N+1):\n",
    "        i = j * j;\n",
    "        while (i < N + 1) :\n",
    "            if numbers[i] == 1:\n",
    "                numbers[i] = 0\n",
    "            i += j\n",
    "    return numbers\n",
    "def check_prime(x):\n",
    "    try:\n",
    "        x = int(x)\n",
    "        if x < 0:  \n",
    "            print(\"error : input must be a positive integer\")\n",
    "            return;\n",
    "    except ValueError :\n",
    "        print('error : The input given is not a integer')\n",
    "    else :\n",
    "        if (x) > 2:\n",
    "            numbers = seive((x))\n",
    "            if numbers[x] == 1:\n",
    "                print(str(x) + '  is a prime number')\n",
    "            else : print(str(x) + ' is NOT a prime number')\n",
    "        else : print(str(x) + ' is NOT a prime number')    \n",
    "x = input('Please enter a positive integer: ')\n",
    "check_prime(x)"
   ]
  },
  {
   "cell_type": "markdown",
   "id": "30f17efe",
   "metadata": {},
   "source": [
    "Error message is displayed if the number is less than 0 or the input given is not a integer. if the number is valid then seive algorithm is applied to find whether it is prime or not."
   ]
  }
 ],
 "metadata": {
  "authors": [
   {
    "name": "Annangi Shashank babu ( EE21B021 )"
   }
  ],
  "kernelspec": {
   "display_name": "Python 3 (ipykernel)",
   "language": "python",
   "name": "python3"
  },
  "language_info": {
   "codemirror_mode": {
    "name": "ipython",
    "version": 3
   },
   "file_extension": ".py",
   "mimetype": "text/x-python",
   "name": "python",
   "nbconvert_exporter": "python",
   "pygments_lexer": "ipython3",
   "version": "3.10.9"
  }
 },
 "nbformat": 4,
 "nbformat_minor": 5
}
